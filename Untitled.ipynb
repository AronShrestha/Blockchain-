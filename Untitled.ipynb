{
 "cells": [
  {
   "cell_type": "markdown",
   "id": "9e4570f0",
   "metadata": {},
   "source": [
    "# Assignment-1\n",
    "\n",
    "### Problem: Secure communication between a client and a server"
   ]
  },
  {
   "cell_type": "markdown",
   "id": "08d46c77",
   "metadata": {},
   "source": [
    "### Use Case:\n",
    "#### A company is developing a new messaging service that allows clients to communicatesecurely with a server. The company wants to ensure that all messages sent between theclient and the server are encrypted and secure."
   ]
  },
  {
   "cell_type": "markdown",
   "id": "b45dfb41",
   "metadata": {},
   "source": [
    "### Assignment:\n",
    "#### Your task is to write an implementation of the AES or RSA encryption algorithm in Python that will be used to encrypt and decrypt messages sent between the client and the server. The implementation should include the ability to generate a key for encryption/decryption and should be able to handle large amounts of data. The code should also include a mechanism for securely exchanging the encryption key between the client and the server."
   ]
  },
  {
   "cell_type": "code",
   "execution_count": 1,
   "id": "2d0aaa6b",
   "metadata": {},
   "outputs": [
    {
     "name": "stdout",
     "output_type": "stream",
     "text": [
      "Requirement already satisfied: cryptography in /home/aroooon/anaconda3/lib/python3.9/site-packages (39.0.0)\n",
      "Requirement already satisfied: cffi>=1.12 in /home/aroooon/anaconda3/lib/python3.9/site-packages (from cryptography) (1.15.0)\n",
      "Requirement already satisfied: pycparser in /home/aroooon/anaconda3/lib/python3.9/site-packages (from cffi>=1.12->cryptography) (2.21)\n",
      "Collecting pycryptodome\n",
      "  Downloading pycryptodome-3.17-cp35-abi3-manylinux_2_17_x86_64.manylinux2014_x86_64.whl (2.1 MB)\n",
      "\u001b[K     |████████████████████████████████| 2.1 MB 627 kB/s eta 0:00:01\n",
      "\u001b[?25hInstalling collected packages: pycryptodome\n",
      "Successfully installed pycryptodome-3.17\n",
      "Collecting kerberos\n",
      "  Downloading kerberos-1.3.1.tar.gz (19 kB)\n",
      "Building wheels for collected packages: kerberos\n",
      "  Building wheel for kerberos (setup.py) ... \u001b[?25ldone\n",
      "\u001b[?25h  Created wheel for kerberos: filename=kerberos-1.3.1-cp39-cp39-linux_x86_64.whl size=20367 sha256=dc37577a0e3b4924312d38ca626e0fdb0e1148db9a3920c2b666a49693dcb428\n",
      "  Stored in directory: /home/aroooon/.cache/pip/wheels/47/41/d2/921470de1f4b76c93107ac2aadc87057688399c1619aa00789\n",
      "Successfully built kerberos\n",
      "Installing collected packages: kerberos\n",
      "Successfully installed kerberos-1.3.1\n"
     ]
    }
   ],
   "source": [
    "# Practe Symmetric-key Encryption\n",
    "!pip install cryptography\n",
    "!pip install pycryptodome\n",
    "!pip install kerberos"
   ]
  },
  {
   "cell_type": "code",
   "execution_count": 20,
   "id": "af08f507",
   "metadata": {},
   "outputs": [],
   "source": [
    "from Crypto.Cipher import PKCS1_OAEP,AES\n",
    "from Crypto.Random import get_random_bytes\n",
    "from Crypto.PublicKey import RSA\n",
    "from Crypto import Random\n"
   ]
  },
  {
   "cell_type": "code",
   "execution_count": 8,
   "id": "a74eb1c0",
   "metadata": {},
   "outputs": [],
   "source": [
    "# In assymetric means that it works on two different keys i.e. Public key and Private Key.\n",
    "# Public key is shared to everyone and Private key is kept private"
   ]
  },
  {
   "cell_type": "code",
   "execution_count": 34,
   "id": "4586485b",
   "metadata": {},
   "outputs": [],
   "source": [
    "#Generating public and private key of length 2048, we can have minimum of 16 key \n",
    "private_key = RSA.generate(2048)\n",
    "public_key = private_key.publickey()\n",
    "# key size is recommended to take atleast 2048  below it is consider breakable"
   ]
  },
  {
   "cell_type": "code",
   "execution_count": 35,
   "id": "cfe8f33f",
   "metadata": {},
   "outputs": [
    {
     "data": {
      "text/plain": [
       "RsaKey(n=23421334653044288722238910211315003280000228068999661067532053231511034763360361935290512670820442219126210838213311920120628471222258721580900911703664346024424274049199174413993901633370730745259756904904037506828475246915569437816484266331283809709872790361117445784957106341450789215677142654363856198884967284699647151995769677833337436472754938318561361449939738096003044034340096842117952350940197558580752596871837027588504877803796479775750226365610138443485690606628978775121829480782916529549034801594384808113686987261614946502207397377834684226742009337807415815973394428474856561043055963666382083295787, e=65537)"
      ]
     },
     "execution_count": 35,
     "metadata": {},
     "output_type": "execute_result"
    }
   ],
   "source": [
    "public_key"
   ]
  },
  {
   "cell_type": "code",
   "execution_count": 36,
   "id": "64bbed22",
   "metadata": {},
   "outputs": [
    {
     "data": {
      "text/plain": [
       "RsaKey(n=23421334653044288722238910211315003280000228068999661067532053231511034763360361935290512670820442219126210838213311920120628471222258721580900911703664346024424274049199174413993901633370730745259756904904037506828475246915569437816484266331283809709872790361117445784957106341450789215677142654363856198884967284699647151995769677833337436472754938318561361449939738096003044034340096842117952350940197558580752596871837027588504877803796479775750226365610138443485690606628978775121829480782916529549034801594384808113686987261614946502207397377834684226742009337807415815973394428474856561043055963666382083295787, e=65537, d=3603836644904010175267572166195213577715422329663204227868804087188853010149784851546333799095652980932479329147647989499312412965965190017985793426182185269918241353095188081843592215916444308156567006757553721182072454782861917275957043436975364823168218413006930073136370089134076937441306733352368685662339383972741763255847570343461145931938927420764872999934701150766818626138478767050542230608698099828455134784275409677211764548463509151838646054099776678947284987592832897523271307230594833802218275638331878786974345833830159537184862564038744184650144287381763757312420683730288476458887749417069235412113, p=148366318826821342082182905661105786770469942984958224950321375227165099048874045791865920511011716901292274450137787705756795378776580254803241988227910815407945193945931306686624781185630021613351436703288403031965352372878234328089939306656758599955523552935235567821641611465981568226180877041112848798683, q=157861533791793656895604908727835096382139340818864331008372907754972335713916825957549664799676144782595848243658662342171857662175209070499978697104194651480616292920566059793013310921491751512646016191713907100205624352907227114520630913811706871700145201898344892761211769198090837951710908437040180911089, u=79091460287362867593352545043671201121915200475894076771645837893750923744895792954832194797890917079552204972957479711685310433550929045831646308122054948947213272692228798627078457534803457308737728932702983389749614703390369189344706234425514684778120047027800386907756297272746344592207062300261862421400)"
      ]
     },
     "execution_count": 36,
     "metadata": {},
     "output_type": "execute_result"
    }
   ],
   "source": [
    "private_key"
   ]
  },
  {
   "cell_type": "code",
   "execution_count": 37,
   "id": "14ad61ff",
   "metadata": {},
   "outputs": [
    {
     "data": {
      "text/plain": [
       "16"
      ]
     },
     "execution_count": 37,
     "metadata": {},
     "output_type": "execute_result"
    }
   ],
   "source": [
    "AES.block_size"
   ]
  },
  {
   "cell_type": "code",
   "execution_count": 38,
   "id": "88ff3a78",
   "metadata": {},
   "outputs": [],
   "source": [
    "# Generate a random session key for DES encryption\n",
    "session_key = get_random_bytes(AES.block_size)"
   ]
  },
  {
   "cell_type": "code",
   "execution_count": 39,
   "id": "0d7d399c",
   "metadata": {},
   "outputs": [
    {
     "data": {
      "text/plain": [
       "b'LK\\xad\\x13\\x88z\\x98\\x94\\xbe\\x97\\x0b\\xdb\\xc3LI\\xc0'"
      ]
     },
     "execution_count": 39,
     "metadata": {},
     "output_type": "execute_result"
    }
   ],
   "source": [
    "session_key"
   ]
  },
  {
   "cell_type": "code",
   "execution_count": 43,
   "id": "b1d5b6d6",
   "metadata": {},
   "outputs": [
    {
     "data": {
      "text/plain": [
       "<Crypto.Cipher.PKCS1_OAEP.PKCS1OAEP_Cipher at 0x7f985a7daa60>"
      ]
     },
     "execution_count": 43,
     "metadata": {},
     "output_type": "execute_result"
    }
   ],
   "source": [
    "# Encrypt the session key with the public RSA key\n",
    "rsa_encrypt = PKCS1_OAEP.new(public_key)\n",
    "rsa_encrypt"
   ]
  },
  {
   "cell_type": "code",
   "execution_count": 45,
   "id": "95791015",
   "metadata": {},
   "outputs": [
    {
     "data": {
      "text/plain": [
       "b'\\xa1A\\x1c\\xa1(I\\x8d\\xd8\\xe9\\x14L)1\\x92\\xa7\\xc0\\xc7\\xbeM\\xffu\\xf4q\\x1a\\x0e\\x9f\\xe2e\\x91M\\xf0;\\xcao<esG\\xa6<\\xeaW\\xff\\xea\\xcbP\\xa1\\xaayu\\x8d\\xe8\\x8a\\xb8\\x07\\xddX\\xea\\xbf\\x96\\xf0\\xb2\\xe0y\\xbf\\xa6=\\x93\\x10z\\xc6O*IcX\\x1d\\xe5*\\xff9wT)\\x19\\x17b\\xf7\\x04v\\x1a\\xcc\\xd5O&O\\xb0|&-#\\xc2\\x05\\xb2D3\\xa2\\x11\\xe7P\\xf4\\x88!\\xdb\\xb5\\xe1`\\xffHR\\x15\\xd3\\x0b\\xba\\xe8\\x95\\x16\\x1e\\xf1\\x9e\\x0c\\xb1\\x0c\\xdc\\xcd\\xcd\\xcc\\xd8\\x0c\\xd1\\xac\\xc1\\x03\\xe7\\xdd \\xb0.*\\xb3\\xa3\\x80k]|/8\\x10Qc\\x84\\xe7W_:\\x8fWc\\xd5\\xdd\\rIN\\xe4\\xac\\xd0^\\xab\\xf4\\t\\xde\\x91\\x03\\xd3\\x08\\x99& \\xa1=Y\\xa1.\\x9f\\xadK|\\xa0?w\\xfe\\xed\\x910\\x8f\\x05o_\\xd0\\x14\\x86:\\\\\\x0c\\x06y\\xab/s\\xeb\\xc35\\x07^\\x98@\\x13M\\xef\\xaf\\xc8\\x1boF\\xbd\\x7fP\\xaa7\\x993\\xf5\\xa10\\xa03\\xa5\\xfc\\xbb\\x9e\\xc8\\xb8n\\x84\\x8b@'"
      ]
     },
     "execution_count": 45,
     "metadata": {},
     "output_type": "execute_result"
    }
   ],
   "source": [
    "\n",
    "enc_session_key = rsa_encrypt.encrypt(session_key)\n",
    "enc_session_key"
   ]
  },
  {
   "cell_type": "code",
   "execution_count": 1,
   "id": "62581558",
   "metadata": {},
   "outputs": [
    {
     "name": "stdout",
     "output_type": "stream",
     "text": [
      "Origina message : b'First assignment of Blockchain class.'\n"
     ]
    }
   ],
   "source": [
    "#Using AES to encrypt data \n",
    "data = b'First assignment of Blockchain class.'\n",
    "print(\"Origina message :\",data)"
   ]
  },
  {
   "cell_type": "code",
   "execution_count": 67,
   "id": "b53ee361",
   "metadata": {},
   "outputs": [],
   "source": [
    "\n",
    "block_size  = AES.block_size\n",
    "pad = block_size -(len(data)%block_size)\n",
    "data += bytes([pad])*pad\n"
   ]
  },
  {
   "cell_type": "code",
   "execution_count": 68,
   "id": "5b610c13",
   "metadata": {},
   "outputs": [
    {
     "data": {
      "text/plain": [
       "16"
      ]
     },
     "execution_count": 68,
     "metadata": {},
     "output_type": "execute_result"
    }
   ],
   "source": [
    "block_size"
   ]
  },
  {
   "cell_type": "code",
   "execution_count": 69,
   "id": "cec7f264",
   "metadata": {},
   "outputs": [
    {
     "data": {
      "text/plain": [
       "b'FIrst assignment of Blockchain class.\\x0b\\x0b\\x0b\\x0b\\x0b\\x0b\\x0b\\x0b\\x0b\\x0b\\x0b'"
      ]
     },
     "execution_count": 69,
     "metadata": {},
     "output_type": "execute_result"
    }
   ],
   "source": [
    "data"
   ]
  },
  {
   "cell_type": "code",
   "execution_count": 70,
   "id": "d277fce2",
   "metadata": {},
   "outputs": [
    {
     "name": "stdout",
     "output_type": "stream",
     "text": [
      "Encrypted data : b'\\xc2D\\x8a\\xb0sO\\t\\xa8\\x055$>\\x1c2\\x93\\xe1\\xd9G\\xef\\x80\\xfdB\\x14\\x8d\\xca\\x84\\xf7.\\xb9j\\xda\\x91]zm\\xdebA\\xaa\\xce\\xb1\\xd8\\x00n\\xadV8e'\n"
     ]
    }
   ],
   "source": [
    "cipher_aes = AES.new(session_key,AES.MODE_CBC,session_key)\n",
    "ciphertext = cipher_aes.encrypt(data)\n",
    "print(\"Encrypted data :\" ,ciphertext)"
   ]
  },
  {
   "cell_type": "code",
   "execution_count": 71,
   "id": "ea17134b",
   "metadata": {},
   "outputs": [],
   "source": [
    "# Now to decrypt the data\n",
    "# Use RSA to decrypt the session key\n",
    "rsa_decrypt = PKCS1_OAEP.new(private_key)\n",
    "session_key = rsa_decrypt.decrypt(enc_session_key)"
   ]
  },
  {
   "cell_type": "code",
   "execution_count": 72,
   "id": "6746214d",
   "metadata": {},
   "outputs": [
    {
     "name": "stdout",
     "output_type": "stream",
     "text": [
      "Decrypted data before removing padding b'FIrst assignment of Blockchain class.\\x0b\\x0b\\x0b\\x0b\\x0b\\x0b\\x0b\\x0b\\x0b\\x0b\\x0b'\n"
     ]
    }
   ],
   "source": [
    "cipher_aes =  AES.new(session_key,AES.MODE_CBC,session_key)\n",
    "plaintext = cipher_aes.decrypt(ciphertext)\n",
    "print(\"Decrypted data before removing padding\",plaintext)"
   ]
  },
  {
   "cell_type": "code",
   "execution_count": 73,
   "id": "21a722aa",
   "metadata": {},
   "outputs": [
    {
     "name": "stdout",
     "output_type": "stream",
     "text": [
      "Decrypted data after removing padding b'FIrst assignment of Blockchain class.'\n"
     ]
    }
   ],
   "source": [
    "#removing padding\n",
    "plaintext = plaintext[:-plaintext[-1]]\n",
    "print(\"Decrypted data after removing padding\",plaintext)"
   ]
  },
  {
   "cell_type": "code",
   "execution_count": null,
   "id": "5505e4ac",
   "metadata": {},
   "outputs": [],
   "source": []
  }
 ],
 "metadata": {
  "kernelspec": {
   "display_name": "Python 3 (ipykernel)",
   "language": "python",
   "name": "python3"
  },
  "language_info": {
   "codemirror_mode": {
    "name": "ipython",
    "version": 3
   },
   "file_extension": ".py",
   "mimetype": "text/x-python",
   "name": "python",
   "nbconvert_exporter": "python",
   "pygments_lexer": "ipython3",
   "version": "3.9.12"
  }
 },
 "nbformat": 4,
 "nbformat_minor": 5
}
