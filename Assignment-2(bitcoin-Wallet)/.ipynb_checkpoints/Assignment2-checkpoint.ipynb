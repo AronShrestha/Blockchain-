{
 "cells": [
  {
   "cell_type": "markdown",
   "id": "5d0c32ce",
   "metadata": {},
   "source": [
    "#  Assignment-2 (Bitcoin RPC Implementation)"
   ]
  },
  {
   "cell_type": "markdown",
   "id": "525b31a2",
   "metadata": {},
   "source": [
    "## Name : Aron Shrestha"
   ]
  },
  {
   "cell_type": "markdown",
   "id": "271e4913",
   "metadata": {},
   "source": []
  },
  {
   "cell_type": "code",
   "execution_count": null,
   "id": "ff816c5e",
   "metadata": {},
   "outputs": [],
   "source": []
  },
  {
   "cell_type": "code",
   "execution_count": 1,
   "id": "066ee882",
   "metadata": {},
   "outputs": [],
   "source": [
    "import os"
   ]
  },
  {
   "cell_type": "code",
   "execution_count": 7,
   "id": "0e96f8dd",
   "metadata": {},
   "outputs": [],
   "source": [
    "# os.chdir('..') #to get to home dir"
   ]
  },
  {
   "cell_type": "code",
   "execution_count": 8,
   "id": "7c15c1bf",
   "metadata": {},
   "outputs": [
    {
     "data": {
      "text/plain": [
       "'/home/aroooon'"
      ]
     },
     "execution_count": 8,
     "metadata": {},
     "output_type": "execute_result"
    }
   ],
   "source": [
    "os.getcwd()"
   ]
  },
  {
   "cell_type": "code",
   "execution_count": 4,
   "id": "db55ba6c",
   "metadata": {},
   "outputs": [],
   "source": [
    "!bitc/bin/bitcoind -daemon"
   ]
  },
  {
   "cell_type": "code",
   "execution_count": 9,
   "id": "96a1c48d",
   "metadata": {},
   "outputs": [
    {
     "name": "stdout",
     "output_type": "stream",
     "text": [
      "Bitcoin Core starting\r\n"
     ]
    }
   ],
   "source": [
    "#running the testnet daemon\n",
    "!bitc/bin/bitcoind --testnet -daemon "
   ]
  },
  {
   "cell_type": "code",
   "execution_count": 15,
   "id": "779487d7",
   "metadata": {},
   "outputs": [
    {
     "name": "stdout",
     "output_type": "stream",
     "text": [
      "Bitcoin Core stopping\r\n"
     ]
    }
   ],
   "source": [
    "#Stopping  the testnet daemon\n",
    "!bitc/bin/bitcoin-cli --testnet stop"
   ]
  },
  {
   "cell_type": "code",
   "execution_count": 17,
   "id": "68d2a178",
   "metadata": {},
   "outputs": [
    {
     "name": "stdout",
     "output_type": "stream",
     "text": [
      "Bitcoin Core starting\r\n"
     ]
    }
   ],
   "source": [
    "!bitc/bin/bitcoind --regtest -daemon"
   ]
  },
  {
   "cell_type": "code",
   "execution_count": 18,
   "id": "1cacb30c",
   "metadata": {},
   "outputs": [],
   "source": [
    "WALLET = \"AronStha\""
   ]
  },
  {
   "cell_type": "code",
   "execution_count": 19,
   "id": "3252b033",
   "metadata": {},
   "outputs": [
    {
     "name": "stdout",
     "output_type": "stream",
     "text": [
      "{\r\n",
      "  \"name\": \"AronStha\",\r\n",
      "  \"warning\": \"\"\r\n",
      "}\r\n"
     ]
    }
   ],
   "source": [
    "#creating a new wallet \n",
    "!bitc/bin/bitcoin-cli -regtest createwallet $WALLET false"
   ]
  },
  {
   "cell_type": "code",
   "execution_count": 22,
   "id": "f07e1d49",
   "metadata": {},
   "outputs": [
    {
     "name": "stdout",
     "output_type": "stream",
     "text": [
      "0.00000000\r\n"
     ]
    }
   ],
   "source": [
    "#checking the balance\n",
    "!bitc/bin/bitcoin-cli -regtest -rpcwallet=$WALLET getbalance"
   ]
  },
  {
   "cell_type": "code",
   "execution_count": 27,
   "id": "b96cf371",
   "metadata": {},
   "outputs": [
    {
     "name": "stdout",
     "output_type": "stream",
     "text": [
      "{\r\n",
      "  \"address\": \"bcrt1qvghsvkwql58gs9l8kysfvrc94vthujhq3dxlcd\",\r\n",
      "  \"blocks\": [\r\n",
      "    \"33f40449e528530b122abf3c205d68f626b794ad330d9c4d7937f31d536d8728\",\r\n",
      "    \"61d2024b4cfc159b5db4535fe6a9a5a6a84027b548acd7cae3b191c4ec318dee\",\r\n",
      "    \"131f82c652fd6b4dd8223a6d0695cefd4d25e35bb6ada762e4b084f03633f434\",\r\n",
      "    \"7878ad2ca53b53a847c57a821db29217360a9cdc41a9dccde6f6dd328acb7c34\",\r\n",
      "    \"1aadc663137507a816034238f11f3c455f8957eb24220f7b3cfe93456fdd6efe\",\r\n",
      "    \"76ab9aff1a02e0d9c82fb688c1e2c05366e0c7ede4f788c9e2d4ec0689f4868e\",\r\n",
      "    \"5612a318db7509630d37772be4ced51dec56be01cd7647eff3da9c353b3ccf8c\",\r\n",
      "    \"1e688f3e06493e6256b0fc0547e7fbd6d3f24d978069419fd918c3567ccfdb9e\",\r\n",
      "    \"33c9cd92fa4b83acb59fbeb7f2fa89da3371180718c867a7798a88dd733974db\",\r\n",
      "    \"2d4df2c827ce6aa5d09a2f2b8d3ad3eaa27a204db4bc387d89a1de647abbdee1\",\r\n",
      "    \"4bf9dc48df5ab1a62aa60ce6280f8486084eb43039ebc45797b5ac5116e7b5da\",\r\n",
      "    \"3f88b1acf62300caefa67222e201b8405316419fed10aba17bf4dfc8108bdfe7\",\r\n",
      "    \"57584833aec471ba49bc609648fa589d823bae12c5cdb1440a5bc49d7d4eadaf\",\r\n",
      "    \"4752429855b673d9dd4e610f342101491086460fd0aeb8eeb50f654245640056\",\r\n",
      "    \"6db55364377cd6459c2dda00ba0f398f05ad0503f6b6856f2e14b327e0fc0852\",\r\n",
      "    \"4ee3fda364dd3c0b740bed81321d536b55aa35d819ae3565ab970617b632df0c\",\r\n",
      "    \"014b96d5d9f91b4f21a8fcd9f2d3067270510fa7ec8d4a491a7c25b11e3c2320\",\r\n",
      "    \"5dc0005ff3610c85b25d31811fafe49b08f4d693fb35452a8b58436fc8f503b9\",\r\n",
      "    \"5f71d7f28d64d983aabc12c1a2d9b7a112cb787fc82ed9f3b79309f04f19f785\",\r\n",
      "    \"0f206202b757d3a810959bb4d856430569964e132637762fcdb830cbb107b5d9\",\r\n",
      "    \"0616ca1d9125eaeffd50776cb677e3ce0ad35367d05361970c7bdad1ed0999a8\",\r\n",
      "    \"41705b3652d8755a944fec1c8512401a58d9733d09e2ab5383f0c882531c2e37\",\r\n",
      "    \"086d27d9a46987434894641d1b07f92e4f6582baec8654ea80853688466aa5b5\",\r\n",
      "    \"6e3a88919f46bfd738dc9b52bfa782fc9bccbf916cd453a62fbcca1fffdc6343\",\r\n",
      "    \"04934a2a9083a6a49f438feded88f04038904fbd2f3083528f36081fd3a9ffc7\",\r\n",
      "    \"0641a6ccac9fbf59c4b91ce5267ce81124b32e24f0cbc787a70744d02862e3e0\",\r\n",
      "    \"46bdd478e7affd2a339743db736b3687be278bcea9500c7bde1b3cd7e890e6b1\",\r\n",
      "    \"7505cc0a95eaee27d134de46ab0547339d41d886a9ed138364381ce5c82baf35\",\r\n",
      "    \"4a207d92a2cd367c2a2b19e459b5e7c9d48b2baa4a88ee36a2571e082ff83372\",\r\n",
      "    \"0445013d4b55bbce352a61197de2a3711ae0e80b25f9772d95d5ffbdc2a2ed01\",\r\n",
      "    \"4b8d6cf5506e3f55ae16f933ba26bb812611aa42c104454b82046dba85db4be5\",\r\n",
      "    \"18bb7b9179305cf1698d1adc25c219a863abeb617f9c189ddd5ec5c183d4f455\",\r\n",
      "    \"7678cecaad1accaa09f940bc1058cb74482aca3b54b5b69f9de002793a9586fc\",\r\n",
      "    \"53b9a07879fe4a6c7f35b5e23bfd4e73a16299a2f54c388563757deffb796dbd\",\r\n",
      "    \"0c2829e2c4a77dabe629ed05cbddb5e0187956dce97b5f352fe7c79f8d7bfed4\",\r\n",
      "    \"630f6c8e964f04a7d1d32bb5c130321df4a53d87bdf80d06ebec8bbfbff336ec\",\r\n",
      "    \"54842d473d02e078c2d831658fb5dad911bc3376979abaa4224663acc95e8a17\",\r\n",
      "    \"58d35d459241e1c4e9a61621b7f5d72cb7c341ed1a67b5028ed97aba51fce005\",\r\n",
      "    \"6f39d783f4c7daae1e2ffcd89292d5ef4ce419734fde92cf5000b1fc07f8a58d\",\r\n",
      "    \"5786c1cc41c8f5030fedfb31523fa97baade20543513a9d5d05d96bc355a1e64\",\r\n",
      "    \"1a05ec1f64cf41c4f9a3af892e5225f51f850ed7578c220f391e8c16fd7d30f8\",\r\n",
      "    \"1718487b929d1231f620eab4c8dca3a4feacc39ecb6d13079196ba46103bb348\",\r\n",
      "    \"299b85ba016d2e19b70f68bc30c83dce0ace3b22fa5079f50b0575e858ff2e76\",\r\n",
      "    \"7400f3c3ab4ff5494ab18f2b9bab4b3af37197ecab037853b74fbb0f6681c6ae\",\r\n",
      "    \"73b8e3876ea41ea0ac309a552d017db258f3c982a831b9018b0d48f4ccc2807f\",\r\n",
      "    \"54dd34b592d2d28852f531e544eff77be8739eea0015da16c44807d9880ec89c\",\r\n",
      "    \"63ff777d053ca97c3138e7b126522a6c8bde789b45282fac718682714086e9a0\",\r\n",
      "    \"46df184262218466efbf60e381547feef9742859b1dbd273b0d45d8262480791\",\r\n",
      "    \"55e871667be60264ab7336848cc5b81c9235d423fb2873147ffb6d397dc82160\",\r\n",
      "    \"1773ff690031e3d4f0374d2848c88d1e94d9b1ff773700901d001d3823ba6cc1\",\r\n",
      "    \"24aa80c63281f5fdccdd5d0cde00aefd4962e8ab221318c8c79aa80ee17ca7b1\",\r\n",
      "    \"730bf8692fda27e54ed3385eff7b33a240b2010cb71c4fe9a25cb3ab19418b8b\",\r\n",
      "    \"7429c3ece61370ac3a451b554f3580820a14d69b61cb2c61a1029eefef371ce4\",\r\n",
      "    \"165c01f8518ad52bd4c1138c5a5c09820833540f983e9e2efd21f255cb48784e\",\r\n",
      "    \"0c690d4b4e89b6453270bbd3ff6b6eb57988a395b29cd9817f59c5a301c10b92\",\r\n",
      "    \"5d53f7415e7aca88d4eb6f4bffab59a5b27e19197b14d70b1826aadff23e0e9a\",\r\n",
      "    \"6076d9034efac308b087d61efe8d142bbeb2e6b5050483118079c50a20a8e905\",\r\n",
      "    \"2fea6945fc2a3988d7f53ec92082548a12ab62faa86b537b78f2be504c8ad4f0\",\r\n",
      "    \"762c7d88d8d9b5959c38bfb0978cd233ef47f031dd7293c6350261c1e243dabe\",\r\n",
      "    \"237b5a1c6ebf232cc0beb9e5958ce6d3141bb4d52b405c7bf3a3df8be3337afc\",\r\n",
      "    \"5ed9b6dfca39d5ad4cb096f4786b46c4850d3816aa8caef3c84a024b3045a766\",\r\n",
      "    \"5b29e3c8567a651cf25735efe9c66b2cfefd5784f20d7acc5b14fc90144774ab\",\r\n",
      "    \"15fb97d57776bdc60957c7f519ae748220be471ecf05cf81f5d30d9a7d6f831d\",\r\n",
      "    \"2368df1e062e163205700b1cd3f9021345b6f610fa08431157be185d9f9363e3\",\r\n",
      "    \"09e39eea662902bc5fcac89c41c8e3fd8d30297a2689cd0757488af6f3873e7d\",\r\n",
      "    \"5f712834b265c2559c68e660865a168b5ad888a93b6870694a74f7b3d48c4433\",\r\n",
      "    \"74bf311be269f5d28df3847a30f0f5160e256dc2de336f2148ed1c28429575b4\",\r\n",
      "    \"44d46f95905cfc965d5e49e1cbc7dcf70b7683d4259780c3416b93f9f99c5ee6\",\r\n",
      "    \"741c716cba81740805d218b7d13902687f3768b73b73fe68e7064b30f57f529b\",\r\n",
      "    \"7bd4f45e016fee6982528e33df9d09cf4e8d3a1a021e630d37bb4f78f44cd0f4\",\r\n",
      "    \"0dd264d8510593f229128b59104c1d672a9f4ce471b86696af6e4d6111a6f435\",\r\n",
      "    \"596cd762d2b71492bc4f897572a1327f1ffe4caf2f199850afe41b1be83fbed6\",\r\n",
      "    \"12bdd2cd5919311082d7b1d53ea9c17e1f369c2f728989ea993a3ed06a73d47b\",\r\n",
      "    \"4bb9a73774b570d7d95c83f07a4a518ad41312b105dfd1d2c8fd3405e2d5bb9b\",\r\n",
      "    \"5d425c4a6bedf670001b116f0e701aca9e0a30d1224b98347f30e0d45fc7957c\",\r\n",
      "    \"645b2a2a4baa9d70f160d692d7349e1139fb6974483c5cbca984406d6646a6e0\",\r\n",
      "    \"4f12d880721bcb251cd8d3f6b1332349da86dd874c04de5f3bcd759ac0777bde\",\r\n",
      "    \"0980762b01d3dc231c7de7516d365924680f8bd2120b142b3822a726726e8e66\",\r\n",
      "    \"154f0a278fe3565e6e30fb97afc452fe041b63338ca17a689a6e75a721c6808a\",\r\n",
      "    \"410afc062e6045c30f76a98c68c3124cb01243ef954860c335d08fbd74fe3b85\",\r\n",
      "    \"16e23d7d9091601b85d55f9c512c7eb2c4b30d54279298c7d611eb1a30ea9045\",\r\n",
      "    \"1184249e81a2d66553bff81df9b50fcb45e866ed63b0cdf1b901108a8197b9b0\",\r\n",
      "    \"6abd5a40b7dfae471eb693c466b611db537d5b59770066121d221185a8849d92\",\r\n",
      "    \"6adbd4b451b8cd03b4c7fb4696da0625efb7bb412b3bfe8ebae422f5596ded24\",\r\n",
      "    \"3b3a1866b95a8187b8ec293dd396671cbd26dda35ecee9e6fc220e49be950fda\",\r\n",
      "    \"349dce4508ad3358e0e796a6d0f1e28b3db30818da8223dd3710bc41af437381\",\r\n",
      "    \"6b3bb245f19d3a83ece6d7c1faf1d9177896b22534cbaaf7f9dd164013ca75ca\",\r\n",
      "    \"01542b75b7e7dc7f44d56d110a304e92b1f972ee7c57c09807e50488c1b7efc3\",\r\n",
      "    \"7d6cea817030578826119c7c72180813deb28c8278064da0bef8cbaf77f1b138\",\r\n",
      "    \"5355f8f7946aa92b5f1561853fe5ecaac5ac8e7b099794963d8587f0dea12b4d\",\r\n",
      "    \"72b79ba581f1a7703765f8781c27b2109052151e297b7c528ef0293fa42ea85f\",\r\n",
      "    \"6c959fd8ae3c85386bada2d6f43139da1c7e22c0ca69e3d589e8288ebf4c6f5e\",\r\n",
      "    \"64cd31139e9c7746158732b40af28fe66732a742ab63275b7c29d49d21d03be8\",\r\n",
      "    \"56db9d30812af0b872fba55d0af3cdd0b9635676c5aa264d97779dedf8a792ce\",\r\n",
      "    \"4f953b501264a9c574bc7525a4e7a508542ceb13191cbbf99c4b5638533a96f7\",\r\n",
      "    \"26f23c2753be4976899ca391e80694475b57bb4a4dff057bdaa4c17c23ffacae\",\r\n",
      "    \"5b7a7233f386f098be524373190db9447f14137f3afa8093889308b06aefe055\",\r\n",
      "    \"1f204e8a20953513da99e897e89b9f12db2746cc34bd5a150c10de3e3f04a3c9\",\r\n",
      "    \"3d01424aaa918d7decbcf1aa3e342148967124eb42750ffd4246a66427aa0c0d\",\r\n",
      "    \"499acb36bd0e08f1ba1b5bf37bf3508bbb86f190d907bb07429ee21c428418a3\"\r\n",
      "  ]\r\n",
      "}\r\n"
     ]
    }
   ],
   "source": [
    "#Now mining 100 blocks to get coins\n",
    "!bitc/bin/bitcoin-cli -regtest -rpcwallet=$WALLET -generate 100"
   ]
  },
  {
   "cell_type": "code",
   "execution_count": 28,
   "id": "3f2560b4",
   "metadata": {},
   "outputs": [
    {
     "name": "stdout",
     "output_type": "stream",
     "text": [
      "5000.00000000\r\n"
     ]
    }
   ],
   "source": [
    "#Again checking balance after mining\n",
    "!bitc/bin/bitcoin-cli -rpcwallet=$WALLET -regtest getbalance"
   ]
  },
  {
   "cell_type": "code",
   "execution_count": 29,
   "id": "3f263dbf",
   "metadata": {},
   "outputs": [
    {
     "name": "stdout",
     "output_type": "stream",
     "text": [
      "{\r\n",
      "  \"walletname\": \"AronStha\",\r\n",
      "  \"walletversion\": 169900,\r\n",
      "  \"format\": \"bdb\",\r\n",
      "  \"balance\": 5000.00000000,\r\n",
      "  \"unconfirmed_balance\": 0.00000000,\r\n",
      "  \"immature_balance\": 3725.00000000,\r\n",
      "  \"txcount\": 200,\r\n",
      "  \"keypoololdest\": 1676715488,\r\n",
      "  \"keypoolsize\": 999,\r\n",
      "  \"hdseedid\": \"04c34b30764035ef52892431206a578646582ab4\",\r\n",
      "  \"keypoolsize_hd_internal\": 1000,\r\n",
      "  \"paytxfee\": 0.00000000,\r\n",
      "  \"private_keys_enabled\": true,\r\n",
      "  \"avoid_reuse\": false,\r\n",
      "  \"scanning\": false,\r\n",
      "  \"descriptors\": false\r\n",
      "}\r\n"
     ]
    }
   ],
   "source": [
    "\n",
    "\n",
    "!bitc/bin/bitcoin-cli -regtest getwalletinfo\n",
    "\n"
   ]
  },
  {
   "cell_type": "code",
   "execution_count": 35,
   "id": "3e31b730",
   "metadata": {},
   "outputs": [
    {
     "name": "stdout",
     "output_type": "stream",
     "text": [
      "{\r\n",
      "  \"name\": \"Ashesh\",\r\n",
      "  \"warning\": \"\"\r\n",
      "}\r\n"
     ]
    }
   ],
   "source": [
    "!bitc/bin/bitcoin-cli -regtest -named createwallet wallet_name=\"Ashesh\" descriptors=false"
   ]
  },
  {
   "cell_type": "code",
   "execution_count": 43,
   "id": "1136030d",
   "metadata": {},
   "outputs": [
    {
     "name": "stdout",
     "output_type": "stream",
     "text": [
      "bcrt1q7vts4sl739urzftpx0kgk37esy60wp7v5qplwf\r\n"
     ]
    }
   ],
   "source": [
    "!bitc/bin/bitcoin-cli --regtest -rpcwallet=Ashesh getnewaddress\n"
   ]
  },
  {
   "cell_type": "code",
   "execution_count": null,
   "id": "1714424a",
   "metadata": {},
   "outputs": [],
   "source": []
  },
  {
   "cell_type": "code",
   "execution_count": 44,
   "id": "056aa186",
   "metadata": {},
   "outputs": [
    {
     "name": "stdout",
     "output_type": "stream",
     "text": [
      "6c5ae0a0278564b3da32c2b5f775bb0786abec7dede83048b7e39f668e6b7edd\r\n"
     ]
    }
   ],
   "source": [
    "!bitc/bin/bitcoin-cli -rpcwallet=$WALLET -regtest sendtoaddress \"bcrt1q7vts4sl739urzftpx0kgk37esy60wp7v5qplwf\" 15 \"Iphone\" \"Talch\" true true null \"unset\" null 1.1"
   ]
  },
  {
   "cell_type": "code",
   "execution_count": 45,
   "id": "66ab5b29",
   "metadata": {},
   "outputs": [
    {
     "name": "stdout",
     "output_type": "stream",
     "text": [
      "4984.90000000\r\n"
     ]
    }
   ],
   "source": [
    "#Again checking balance after mining\n",
    "!bitc/bin/bitcoin-cli -rpcwallet=$WALLET -regtest getbalance"
   ]
  }
 ],
 "metadata": {
  "kernelspec": {
   "display_name": "Python 3 (ipykernel)",
   "language": "python",
   "name": "python3"
  },
  "language_info": {
   "codemirror_mode": {
    "name": "ipython",
    "version": 3
   },
   "file_extension": ".py",
   "mimetype": "text/x-python",
   "name": "python",
   "nbconvert_exporter": "python",
   "pygments_lexer": "ipython3",
   "version": "3.9.12"
  }
 },
 "nbformat": 4,
 "nbformat_minor": 5
}
